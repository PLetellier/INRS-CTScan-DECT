{
 "cells": [
  {
   "cell_type": "markdown",
   "metadata": {},
   "source": [
    "# Bourque 2014 *et al*.: A stoichiometric calibration method for dual energy computed tomography\n",
    "\n",
    "\n",
    "## Calculating the effective atomic number and electron density \n",
    "\n",
    "The equations for applying the fitting is the following:\n",
    "\n",
    "$$\n",
    "\\frac{\\mu_{low\\ kVp}}{\\rho} = {A_{low\\ kVp} + C_{low\\ kVp}Z_{eff}^{m-1}}\n",
    "$$\n",
    "\n",
    "We have to accomplish the same equation at high energy:\n",
    "\n",
    "$$\n",
    "\\frac{\\mu_{high\\ kVp}}{\\rho} = {A_{high\\ kVp} + C_{high\\ kVp}Z_{eff}^{m-1}}\n",
    "$$\n",
    "\n",
    "In order to fit the equation above one needs at least four measurements of $\\frac{(\\mu_{80\\ kVp}/rho)}{(\\mu_{140\\ kVp}/rho)}$, one for each material with known EAN and ED. Here I will take m=4.62.\n",
    "Hence, you will have two distinct calibration curves for mu1//rho and mu2/rho. The ratio of these two curves gives mu1/mu2, which is analogous to what is obtained with Landry method, however, this second method allows you to calculate the density because you will have these two aforementioned curves, mu1/rho and mu2/rho. With these two calibrations you will have A1,C1,A2 and C2.\n",
    "\n",
    "\n",
    "## Calibration file\n",
    "\n",
    "The CSV file [calibration-w8e-NF.csv](calibration-w8e-NF.csv) has an example with some measurements performed in a reconstruction of a virtual phantom.\n",
    "\n",
    "In this file the attenuation coefficients, defined as mu1 (low-energy) and mu2 (high-energy) are in units of $mm^{-1}$, and the effective atomic number (EAN) was calculated following Murty (1967?), using $\\beta=2.94$.\n",
    "\n",
    "## Purpose of jupyter notebook\n",
    "\n",
    "The propose of this document is to show how the fitting is performed following Landry _et al._(2013) method.Here, Bourque et al (2014)."
   ]
  },
  {
   "cell_type": "code",
   "execution_count": 1,
   "metadata": {
    "scrolled": true
   },
   "outputs": [],
   "source": [
    "# import modules\n",
    "import numpy as np\n",
    "import pandas as pd\n",
    "import matplotlib.pyplot as plt\n",
    "from scipy.optimize import curve_fit\n",
    "#from sklearn import *\n",
    "#from sklearn.compose import TransformedTargetRegressor\n",
    "#from sklearn.metrics import r2_score"
   ]
  },
  {
   "cell_type": "code",
   "execution_count": 2,
   "metadata": {},
   "outputs": [],
   "source": [
    "# Import CSV file with measuremtns\n",
    "calibration_file = pd.read_csv(\"medicalCT_2e94-70low-D45s-ex-try27.csv\")\n",
    "# Assign variables\n",
    "mu1 = calibration_file[\"mu1\"].values # attenuation coefficient (low-energy)\n",
    "#mu2 = calibration_file[\"mu2\"].values # attenuation coefficient (high-energy)\n",
    "ean = calibration_file[\"EAN\"].values # effective atomic number\n",
    "ED = calibration_file[\"ED\"].values # electronic density\n",
    "rho = ED / 3.34279E+23   # dividere per ED dell'acqua per ottenere \"relative ED\"\n",
    "mu1_over_rho = mu1 / rho # mass attenuation coefficient low energy\n",
    "#mu2_over_rho = mu2 / rho # mass attenuation coefficient high energy\n",
    "#mu1_over_mu2 = mu1 / mu2 # ratio of attenuation coefficients"
   ]
  },
  {
   "cell_type": "code",
   "execution_count": 3,
   "metadata": {},
   "outputs": [],
   "source": [
    "# Define Bourque _et al._(2014) equation for fitting\n",
    "def rho_bourque ( ean, c, b, a ):\n",
    "    return (a+b*ean+c*ean**2)"
   ]
  },
  {
   "cell_type": "code",
   "execution_count": 4,
   "metadata": {},
   "outputs": [
    {
     "name": "stdout",
     "output_type": "stream",
     "text": [
      " f low E = 0.0071\n",
      " e low E = 0.0383\n",
      " d low E = 0.0817\n",
      "\n"
     ]
    }
   ],
   "source": [
    "# Fitting the data\n",
    "bourque_curve = np.polyfit(ean, mu1_over_rho, 2,)\n",
    "\n",
    "# Printing coefficients\n",
    "print ( \" f low E = {:.4f}\\n e low E = {:.4f}\\n d low E = {:.4f}\\n\".format(bourque_curve[0],bourque_curve[1],bourque_curve[2]) )"
   ]
  },
  {
   "cell_type": "code",
   "execution_count": 5,
   "metadata": {
    "scrolled": false
   },
   "outputs": [
    {
     "data": {
      "image/png": "[encoded data removed]",
      "text/plain": [
       "<Figure size 720x648 with 1 Axes>"
      ]
     },
     "metadata": {
      "needs_background": "light"
     },
     "output_type": "display_data"
    }
   ],
   "source": [
    "fig , ax = plt.subplots ( figsize = (10,9))\n",
    "ax.tick_params(labelsize=15)\n",
    "#ax.set_title(\"Bourque et al. (2014)\")\n",
    "ax.set_xlabel(\"$Z_{eff}$\", size=30)\n",
    "ax.set_ylabel(\"$\\\\frac{\\\\mu_{low}}{\\\\rho_e}$\", size=30)\n",
    "\n",
    "ax.plot(ean, mu1_over_rho, 'ko' , alpha=0.5)\n",
    "\n",
    "ean_fit = np.linspace(np.amin(ean), np.amax(ean), 20)\n",
    "mu1_over_rho_fit = rho_bourque ( ean_fit, *bourque_curve)\n",
    "p = bourque_curve\n",
    "\n",
    "ax.plot ( ean_fit, mu1_over_rho_fit, 'b-' , alpha = 0.7, linewidth = '3.5' )\n",
    "\n",
    "#ax.legend([\"Measurements\",\"Fitting equation \\n $R^{2} = 0.98$\"], prop={\"size\":20})\n",
    "\n",
    "#plt.text(14,7.2,\"\\n $d_{low E} = 0.0817$ \\n $e_{low E} = 0.0383$ \\n $f_{low E} = 0.0071$ \\n   \\n $R^{2} = 0.98$\", size=20)\n",
    "#plt.text(32.4,0.9,\"$R^{2} = 0.98$\", size=30)\n",
    "plt.text(.01, .99, '$R^{2} = 0.98$', ha='left', va='top', transform=ax.transAxes, size=30, bbox = dict(facecolor = 'blue', alpha = 0.5))\n",
    "\n",
    "plt.savefig('medical rhoe low.pdf')"
   ]
  },
  {
   "cell_type": "code",
   "execution_count": 6,
   "metadata": {},
   "outputs": [
    {
     "name": "stdout",
     "output_type": "stream",
     "text": [
      "0.9806847430729319\n"
     ]
    }
   ],
   "source": [
    "def residual ( function ,  xdata , ydata , popt ):\n",
    "    residuals  = ydata - function ( xdata , *popt )\n",
    "    ss_res = np.sum(residuals**2)\n",
    "    ss_tot = np.sum((ydata-np.mean(ydata))**2)\n",
    "    return 1.0 - (ss_res / ss_tot)\n",
    "\n",
    "r_sqared = residual(rho_bourque, ean, mu1_over_rho, bourque_curve)\n",
    "\n",
    "print(r_sqared)"
   ]
  },
  {
   "cell_type": "code",
   "execution_count": null,
   "metadata": {},
   "outputs": [],
   "source": []
  },
  {
   "cell_type": "code",
   "execution_count": null,
   "metadata": {},
   "outputs": [],
   "source": []
  }
 ],
 "metadata": {
  "kernelspec": {
   "display_name": "Python 3 (ipykernel)",
   "language": "python",
   "name": "python3"
  },
  "language_info": {
   "codemirror_mode": {
    "name": "ipython",
    "version": 3
   },
   "file_extension": ".py",
   "mimetype": "text/x-python",
   "name": "python",
   "nbconvert_exporter": "python",
   "pygments_lexer": "ipython3",
   "version": "3.9.7"
  }
 },
 "nbformat": 4,
 "nbformat_minor": 2
}
